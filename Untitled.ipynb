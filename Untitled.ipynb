{
 "cells": [
  {
   "cell_type": "code",
   "execution_count": 1,
   "metadata": {},
   "outputs": [],
   "source": [
    "import matplotlib.pyplot as plt\n",
    "import pickle as pk"
   ]
  },
  {
   "cell_type": "code",
   "execution_count": 2,
   "metadata": {},
   "outputs": [],
   "source": [
    "with open(\"plot_z_last.pk\",\"rb\") as f:\n",
    "    nash_z = pk.load(f)\n",
    "with open(\"plot_z_gumbel_best.pk\",\"rb\") as f:\n",
    "    gumbel_z = pk.load(f)"
   ]
  },
  {
   "cell_type": "code",
   "execution_count": 3,
   "metadata": {},
   "outputs": [],
   "source": [
    "nash_z = nash_z.cpu().numpy()"
   ]
  },
  {
   "cell_type": "code",
   "execution_count": 4,
   "metadata": {},
   "outputs": [],
   "source": [
    "import torch.nn.functional as F\n",
    "gumbel_z = gumbel_z.view(gumbel_z.size(0), 64 ,2)\n",
    "gumbel_z = F.softmax(gumbel_z, dim=-1)"
   ]
  },
  {
   "cell_type": "code",
   "execution_count": 5,
   "metadata": {},
   "outputs": [],
   "source": [
    "gumbel_z = gumbel_z.cpu().numpy()"
   ]
  },
  {
   "cell_type": "code",
   "execution_count": 6,
   "metadata": {},
   "outputs": [],
   "source": [
    "gumbel_z = gumbel_z[:,:,0]"
   ]
  },
  {
   "cell_type": "code",
   "execution_count": 7,
   "metadata": {},
   "outputs": [
    {
     "data": {
      "text/plain": [
       "array([[0.01671212, 0.22878164, 0.9998011 , ..., 0.99207276, 0.02409405,\n",
       "        0.9982736 ],\n",
       "       [0.7083545 , 0.8449498 , 0.55649245, ..., 0.6877846 , 0.75555056,\n",
       "        0.06218672],\n",
       "       [0.8011688 , 0.88949525, 0.10083909, ..., 0.345977  , 0.20426096,\n",
       "        0.57508945],\n",
       "       ...,\n",
       "       [0.37057135, 0.8786296 , 0.30100757, ..., 0.97442424, 0.45411482,\n",
       "        0.8870979 ],\n",
       "       [0.4712773 , 0.34229955, 0.7856154 , ..., 0.7675449 , 0.6109338 ,\n",
       "        0.6898804 ],\n",
       "       [0.9756252 , 0.3769545 , 0.9956599 , ..., 0.59809875, 0.7903884 ,\n",
       "        0.8071996 ]], dtype=float32)"
      ]
     },
     "execution_count": 7,
     "metadata": {},
     "output_type": "execute_result"
    }
   ],
   "source": [
    "gumbel_z"
   ]
  },
  {
   "cell_type": "code",
   "execution_count": 8,
   "metadata": {},
   "outputs": [
    {
     "data": {
      "image/png": "[encoded data removed]",
      "text/plain": [
       "<Figure size 432x288 with 1 Axes>"
      ]
     },
     "metadata": {
      "needs_background": "light"
     },
     "output_type": "display_data"
    }
   ],
   "source": [
    "plt.hist(nash_z.flatten(),bins=50)\n",
    "plt.savefig(\"/home/ubuntu/Desktop/NASH_dis.png\")"
   ]
  },
  {
   "cell_type": "code",
   "execution_count": 75,
   "metadata": {},
   "outputs": [
    {
     "data": {
      "image/png": "[encoded data removed]",
      "text/plain": [
       "<Figure size 432x288 with 1 Axes>"
      ]
     },
     "metadata": {
      "needs_background": "light"
     },
     "output_type": "display_data"
    }
   ],
   "source": [
    "plt.hist(gumbel_z.flatten(),bins=50)\n",
    "plt.savefig(\"/home/ubuntu/Desktop/GUMBEL_dis.png\")"
   ]
  },
  {
   "cell_type": "code",
   "execution_count": 14,
   "metadata": {},
   "outputs": [
    {
     "data": {
      "text/plain": [
       "0.4047696903280543"
      ]
     },
     "execution_count": 14,
     "metadata": {},
     "output_type": "execute_result"
    }
   ],
   "source": [
    "a = (nash_z > 0.5) * 1.0\n",
    "a.sum()/len(a.flatten())"
   ]
  },
  {
   "cell_type": "code",
   "execution_count": 15,
   "metadata": {},
   "outputs": [
    {
     "data": {
      "text/plain": [
       "226304"
      ]
     },
     "execution_count": 15,
     "metadata": {},
     "output_type": "execute_result"
    }
   ],
   "source": [
    "len(a.flatten())"
   ]
  },
  {
   "cell_type": "code",
   "execution_count": 13,
   "metadata": {},
   "outputs": [
    {
     "data": {
      "text/plain": [
       "0.49671238687782804"
      ]
     },
     "execution_count": 13,
     "metadata": {},
     "output_type": "execute_result"
    }
   ],
   "source": [
    "a = (gumbel_z > 0.5) * 1.0\n",
    "a.sum()/len(gumbel_z.flatten())"
   ]
  },
  {
   "cell_type": "code",
   "execution_count": 77,
   "metadata": {},
   "outputs": [],
   "source": [
    "gumbel_z = gumbel_z.view(gumbel_z.size(0), 64 ,2)"
   ]
  },
  {
   "cell_type": "code",
   "execution_count": 78,
   "metadata": {},
   "outputs": [
    {
     "data": {
      "text/plain": [
       "(array([1.0000e+00, 0.0000e+00, 0.0000e+00, 0.0000e+00, 0.0000e+00,\n",
       "        0.0000e+00, 1.0000e+00, 0.0000e+00, 1.0000e+00, 0.0000e+00,\n",
       "        2.0000e+00, 1.0000e+00, 2.0000e+00, 5.0000e+00, 5.0000e+00,\n",
       "        3.0000e+00, 8.0000e+00, 9.0000e+00, 9.0000e+00, 2.0000e+01,\n",
       "        1.2000e+01, 1.8000e+01, 2.4000e+01, 2.3000e+01, 3.4000e+01,\n",
       "        3.9000e+01, 4.6000e+01, 6.3000e+01, 6.7000e+01, 8.2000e+01,\n",
       "        6.7000e+01, 1.1200e+02, 1.3100e+02, 1.6800e+02, 1.8200e+02,\n",
       "        2.0900e+02, 2.0900e+02, 3.1200e+02, 3.2900e+02, 4.1300e+02,\n",
       "        4.5200e+02, 5.4000e+02, 5.8100e+02, 7.3700e+02, 8.6800e+02,\n",
       "        9.9600e+02, 1.1060e+03, 1.2990e+03, 1.4510e+03, 1.6460e+03,\n",
       "        1.9030e+03, 2.1930e+03, 2.4850e+03, 2.8460e+03, 3.1590e+03,\n",
       "        3.5900e+03, 4.1150e+03, 4.6040e+03, 5.2360e+03, 6.1110e+03,\n",
       "        6.6930e+03, 7.9580e+03, 9.1010e+03, 1.0676e+04, 1.3003e+04,\n",
       "        1.7043e+04, 2.1787e+04, 2.4550e+04, 2.3355e+04, 1.8642e+04,\n",
       "        1.2164e+04, 6.9250e+03, 3.4820e+03, 1.5070e+03, 5.7700e+02,\n",
       "        2.1300e+02, 7.2000e+01, 2.1000e+01, 6.0000e+00, 4.0000e+00]),\n",
       " array([-15.490671  , -15.247934  , -15.005198  , -14.762462  ,\n",
       "        -14.519725  , -14.276988  , -14.034251  , -13.791515  ,\n",
       "        -13.548779  , -13.306042  , -13.063305  , -12.820569  ,\n",
       "        -12.577832  , -12.335095  , -12.092359  , -11.849623  ,\n",
       "        -11.606886  , -11.364149  , -11.121412  , -10.878675  ,\n",
       "        -10.63594   , -10.393203  , -10.150466  ,  -9.907729  ,\n",
       "         -9.664993  ,  -9.422256  ,  -9.17952   ,  -8.936783  ,\n",
       "         -8.694047  ,  -8.45131   ,  -8.208573  ,  -7.965837  ,\n",
       "         -7.7231    ,  -7.4803634 ,  -7.237627  ,  -6.99489   ,\n",
       "         -6.752154  ,  -6.509417  ,  -6.2666807 ,  -6.023944  ,\n",
       "         -5.7812076 ,  -5.5384707 ,  -5.2957344 ,  -5.0529976 ,\n",
       "         -4.8102612 ,  -4.5675244 ,  -4.324788  ,  -4.0820513 ,\n",
       "         -3.8393147 ,  -3.5965781 ,  -3.3538415 ,  -3.111105  ,\n",
       "         -2.8683684 ,  -2.6256318 ,  -2.3828952 ,  -2.1401587 ,\n",
       "         -1.897422  ,  -1.6546854 ,  -1.4119488 ,  -1.1692122 ,\n",
       "         -0.9264756 ,  -0.683739  ,  -0.4410024 ,  -0.1982658 ,\n",
       "          0.04447079,   0.28720737,   0.52994394,   0.7726806 ,\n",
       "          1.0154171 ,   1.2581538 ,   1.5008904 ,   1.743627  ,\n",
       "          1.9863635 ,   2.2291002 ,   2.4718368 ,   2.7145734 ,\n",
       "          2.95731   ,   3.2000465 ,   3.442783  ,   3.6855197 ,\n",
       "          3.9282563 ], dtype=float32),\n",
       " <a list of 80 Patch objects>)"
      ]
     },
     "execution_count": 78,
     "metadata": {},
     "output_type": "execute_result"
    },
    {
     "data": {
      "image/png": "[encoded data removed]",
      "text/plain": [
       "<Figure size 432x288 with 1 Axes>"
      ]
     },
     "metadata": {
      "needs_background": "light"
     },
     "output_type": "display_data"
    }
   ],
   "source": [
    "plt.hist(gumbel_z[:,:,0].flatten(),bins=80)"
   ]
  },
  {
   "cell_type": "code",
   "execution_count": 79,
   "metadata": {},
   "outputs": [],
   "source": [
    "import numpy as np\n",
    "nash_z_in = -np.log((1/nash_z-1) + 0.000000000001)"
   ]
  },
  {
   "cell_type": "code",
   "execution_count": 83,
   "metadata": {},
   "outputs": [
    {
     "data": {
      "image/png": "[encoded data removed]",
      "text/plain": [
       "<Figure size 432x288 with 1 Axes>"
      ]
     },
     "metadata": {
      "needs_background": "light"
     },
     "output_type": "display_data"
    }
   ],
   "source": [
    "plt.hist(nash_z_in.flatten(),bins=100)\n",
    "plt.savefig(\"/home/ubuntu/Desktop/NASH_ori_dis.png\")"
   ]
  },
  {
   "cell_type": "code",
   "execution_count": null,
   "metadata": {},
   "outputs": [],
   "source": []
  }
 ],
 "metadata": {
  "kernelspec": {
   "display_name": "Python 3",
   "language": "python",
   "name": "python3"
  },
  "language_info": {
   "codemirror_mode": {
    "name": "ipython",
    "version": 3
   },
   "file_extension": ".py",
   "mimetype": "text/x-python",
   "name": "python",
   "nbconvert_exporter": "python",
   "pygments_lexer": "ipython3",
   "version": "3.6.6"
  }
 },
 "nbformat": 4,
 "nbformat_minor": 2
}
